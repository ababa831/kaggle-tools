{
 "cells": [
  {
   "cell_type": "markdown",
   "metadata": {},
   "source": [
    "# LGBMの導入から使用まで"
   ]
  },
  {
   "cell_type": "markdown",
   "metadata": {},
   "source": [
    "## Install LGBM"
   ]
  },
  {
   "cell_type": "code",
   "execution_count": null,
   "metadata": {},
   "outputs": [],
   "source": [
    "! df"
   ]
  },
  {
   "cell_type": "code",
   "execution_count": null,
   "metadata": {},
   "outputs": [],
   "source": [
    "%bash\n",
    "mkdir /dev/sdb/lgbm\n",
    "pip install lightgbm -t /dev/sdb/lgbm"
   ]
  },
  {
   "cell_type": "code",
   "execution_count": null,
   "metadata": {},
   "outputs": [],
   "source": [
    "!ls /dev/sdb/lgbm/lightgbm"
   ]
  },
  {
   "cell_type": "code",
   "execution_count": 4,
   "metadata": {
    "collapsed": true
   },
   "outputs": [],
   "source": [
    "import sys\n",
    "sys.path.append('/dev/sdb/lgbm/')"
   ]
  },
  {
   "cell_type": "markdown",
   "metadata": {},
   "source": [
    "## Load data"
   ]
  },
  {
   "cell_type": "code",
   "execution_count": 5,
   "metadata": {
    "collapsed": true
   },
   "outputs": [],
   "source": [
    "#import google.datalab.bigquery as bq\n",
    "import pandas as pd"
   ]
  },
  {
   "cell_type": "code",
   "execution_count": null,
   "metadata": {},
   "outputs": [],
   "source": [
    "! gsutil cp gs://path/to/sample_submission.csv ./"
   ]
  },
  {
   "cell_type": "code",
   "execution_count": null,
   "metadata": {},
   "outputs": [],
   "source": [
    "! gsutil cp gs://path/to/train_test*.csv ./"
   ]
  },
  {
   "cell_type": "code",
   "execution_count": null,
   "metadata": {},
   "outputs": [],
   "source": [
    "import os\n",
    "\n",
    "path_list = os.listdir(\"./\")\n",
    "train_csvs = [path for path in path_list if \"train_test\" in path]\n",
    "\n",
    "train_test_df = pd.DataFrame()\n",
    "for csv_part in train_csvs:\n",
    "  tmp_df = pd.read_csv(csv_part)\n",
    "  train_test_df = train_test_df.append(tmp_df)"
   ]
  },
  {
   "cell_type": "code",
   "execution_count": null,
   "metadata": {},
   "outputs": [],
   "source": [
    "train_test_df.head()"
   ]
  },
  {
   "cell_type": "markdown",
   "metadata": {},
   "source": [
    "## Log Transforms"
   ]
  },
  {
   "cell_type": "markdown",
   "metadata": {},
   "source": [
    "Functions"
   ]
  },
  {
   "cell_type": "code",
   "execution_count": 10,
   "metadata": {
    "collapsed": true
   },
   "outputs": [],
   "source": [
    "def log2_transform(df, columns):\n",
    "    for fea in columns:  \n",
    "        df[fea]= np.log2(1 + df[fea].values).astype(int)\n",
    "    return df"
   ]
  },
  {
   "cell_type": "code",
   "execution_count": 11,
   "metadata": {
    "collapsed": true
   },
   "outputs": [],
   "source": [
    "def log10_transform(df, columns):\n",
    "    for fea in columns:  \n",
    "        df[fea]= np.log10(1 + df[fea].values).astype(int)\n",
    "    return df"
   ]
  },
  {
   "cell_type": "markdown",
   "metadata": {},
   "source": [
    "## Label encoding"
   ]
  },
  {
   "cell_type": "code",
   "execution_count": 10,
   "metadata": {},
   "outputs": [],
   "source": [
    "from sklearn import preprocessing\n",
    "le = preprocessing.LabelEncoder()"
   ]
  },
  {
   "cell_type": "code",
   "execution_count": 11,
   "metadata": {
    "collapsed": true
   },
   "outputs": [],
   "source": [
    "train_test_df[[\"col_1\", \"col_2\", \"col_3\"]] = train_test_df[[\"col_1\", \"col_2\", \"col_3\"]].fillna(\"no_description\")"
   ]
  },
  {
   "cell_type": "code",
   "execution_count": 12,
   "metadata": {},
   "outputs": [],
   "source": [
    "train_test_df[[\"col_1\", \"col_2\", \"col_3\"]] \\\n",
    "= train_test_df[[\"col_1\", \"col_2\", \"col_3\"]].apply(le.fit_transform)"
   ]
  },
  {
   "cell_type": "code",
   "execution_count": null,
   "metadata": {},
   "outputs": [],
   "source": [
    "train_test_df.head()"
   ]
  },
  {
   "cell_type": "markdown",
   "metadata": {},
   "source": [
    "## train-test split"
   ]
  },
  {
   "cell_type": "code",
   "execution_count": 14,
   "metadata": {},
   "outputs": [],
   "source": [
    "train_df = train_test_df[~train_test_df[\"target_col\"].isnull()]\n",
    "test_df = train_test_df[train_test_df[\"target_col\"].isnull()]"
   ]
  },
  {
   "cell_type": "markdown",
   "metadata": {},
   "source": [
    "## LGBM settings"
   ]
  },
  {
   "cell_type": "code",
   "execution_count": null,
   "metadata": {},
   "outputs": [],
   "source": [
    "import pandas as pd\n",
    "import time\n",
    "import numpy as np\n",
    "from sklearn.cross_validation import train_test_split\n",
    "import lightgbm as lgb\n",
    "import gc\n",
    "import matplotlib.pyplot as plt\n",
    "import os\n",
    "from sklearn.model_selection import KFold"
   ]
  },
  {
   "cell_type": "code",
   "execution_count": 19,
   "metadata": {},
   "outputs": [],
   "source": [
    "def lgb_modelfit(params, dtrain, dvalid, predictors, ytrain, yvalid, objective='regression', metrics='rmse',\n",
    "                 feval=None, early_stopping_rounds=20, num_boost_round=3000, verbose_eval=10, categorical_features=None):\n",
    "    lgb_params = {\n",
    "        'boosting_type': 'gbdt',\n",
    "        'objective': objective,\n",
    "        'metric': metrics,\n",
    "        'learning_rate': 0.2,\n",
    "        #'is_unbalance': 'true',  #because training data is unbalance (replaced with scale_pos_weight)\n",
    "        'num_leaves': 31,  # we should let it be smaller than 2^(max_depth)\n",
    "        'max_depth': -1,  # -1 means no limit\n",
    "        'min_child_samples': 20,  # Minimum number of data need in a child(min_data_in_leaf)\n",
    "        'max_bin': 255,  # Number of bucketed bin for feature values\n",
    "        'subsample': 0.6,  # Subsample ratio of the training instance.\n",
    "        'subsample_freq': 0,  # frequence of subsample, <=0 means no enable\n",
    "        'colsample_bytree': 0.3,  # Subsample ratio of columns when constructing each tree.\n",
    "        'min_child_weight': 5,  # Minimum sum of instance weight(hessian) needed in a child(leaf)\n",
    "        'subsample_for_bin': 200000,  # Number of samples for constructing bin\n",
    "        'min_split_gain': 0,  # lambda_l1, lambda_l2 and min_gain_to_split to regularization\n",
    "        'reg_alpha': 10 ** (-1),  # L1 regularization term on weights; 0\n",
    "        'reg_lambda': 10 ** (-1),  # L2 regularization term on weights: 0\n",
    "        'nthread': 4,\n",
    "        'verbose': 0,\n",
    "        'metric':metrics\n",
    "    }\n",
    "\n",
    "    lgb_params.update(params)\n",
    "\n",
    "    print(\"preparing validation datasets\")\n",
    "\n",
    "    xgtrain = lgb.Dataset(dtrain[predictors].values, label=ytrain,\n",
    "                          feature_name=predictors,\n",
    "                          categorical_feature=categorical_features\n",
    "                          )\n",
    "    xgvalid = lgb.Dataset(dvalid[predictors].values, label=yvalid,\n",
    "                          feature_name=predictors,\n",
    "                          categorical_feature=categorical_features\n",
    "                          )\n",
    "\n",
    "    evals_results = {}\n",
    "\n",
    "    bst1 = lgb.train(lgb_params, \n",
    "                     xgtrain, \n",
    "                     valid_sets=[xgtrain, xgvalid], \n",
    "                     valid_names=['train','valid'], \n",
    "                     evals_result=evals_results, \n",
    "                     num_boost_round=num_boost_round,\n",
    "                     early_stopping_rounds=early_stopping_rounds,\n",
    "                     verbose_eval=10, \n",
    "                     feval=feval)\n",
    "\n",
    "    print(\"\\nModel Report\")\n",
    "    print(\"bst1.best_iteration: \", bst1.best_iteration)\n",
    "    #print(metrics+\":\", evals_results['valid'][metrics][bst1.best_iteration-1])\n",
    "    \n",
    "    # original code start\n",
    "    # generate oof_X_train\n",
    "    oof_X_train = bst1.predict(dvalid[predictors], num_iteration=bst1.best_iteration)\n",
    "\n",
    "    return (bst1, bst1.best_iteration, oof_X_train)\n",
    "\n",
    "def DO(userows, train_df, test_df, sub_df, predictors, categoricals, targets, debug=0, seed=7, fold_num=4, outs_path=\"./lgbm_outs/\"):\n",
    "    if not os.path.exists(file_path):\n",
    "        os.makedirs(file_path)\n",
    "    print('loading train data...')\n",
    "    if debug:\n",
    "        print('*** debug parameter set: this is a test run for debugging purposes ***')\n",
    "        train_df = train_df[:userows]\n",
    "    len_train = len(train_df)\n",
    "     \n",
    "    print('predictors', predictors)\n",
    "    print('categoricals', categoricals)\n",
    "    \n",
    "    \n",
    "    # define K-fold cross validation\n",
    "    kfold = KFold(n_splits=fold_num, shuffle=True, random_state=seed)\n",
    "    # Initialize oof_xtrain\n",
    "    oof_X_train = []\n",
    "    # initialize output\n",
    "    sum_output =[]\n",
    "    \n",
    "    \n",
    "    print(\"Training {:d}fold seed{:d}\".format(fold_num, seed))\n",
    "    start_time = time.time()\n",
    "\n",
    "    for fold_idx, (train_idx, eval_idx) in enumerate(kfold.split(train_df)):\n",
    "        y_train = train_df[targets].values\n",
    "        # Get train-valid splited dataset\n",
    "        val_df = train_df.iloc[eval_idx]\n",
    "        train_df_kf =train_df.iloc[train_idx]\n",
    "        y_train_kf = y_train[train_idx]\n",
    "        y_eval_kf = y_train[eval_idx]\n",
    "\n",
    "        print(\"train size: \", len(train_df_kf))\n",
    "        print(\"valid size: \", len(val_df))\n",
    "        print(\"test size : \", len(test_df))\n",
    "\n",
    "        gc.collect()\n",
    "\n",
    "        params = {\n",
    "            'learning_rate': 0.20,\n",
    "            #'is_unbalance': 'true', # replaced with scale_pos_weight argument\n",
    "            'num_leaves': 7,  # 2^max_depth - 1\n",
    "            'max_depth': 3,  # -1 means no limit\n",
    "            'min_child_samples': 64,  # Minimum number of data need in a child(min_data_in_leaf)\n",
    "            'max_bin': 63,  # Number of bucketed bin for feature values\n",
    "            'subsample': 0.7,  # Subsample ratio of the training instance.\n",
    "            'subsample_freq': 1,  # frequence of subsample, <=0 means no enable\n",
    "            'colsample_bytree': 0.9,  # Subsample ratio of columns when constructing each tree.\n",
    "            'min_child_weight': 0,  # Minimum sum of instance weight(hessian) needed in a child(leaf)\n",
    "            'scale_pos_weight': 200, # because training data is extremely unbalanced \n",
    "            'lambda_l1': 10 ** (-1),  # L1 regularization term on weights; 0  lambda_l1, reg_alpha\n",
    "            'lambda_l2': 10 ** (-1)  # L2 regularization term on weights: 0 #-6  reg_lambda\n",
    "        }\n",
    "        (bst, best_iteration, oof_X_train_kf) = lgb_modelfit(params, \n",
    "                                                             train_df_kf, \n",
    "                                                             val_df, \n",
    "                                                             predictors, \n",
    "                                                             y_train_kf,\n",
    "                                                             y_eval_kf,\n",
    "                                                             objective='regression', \n",
    "                                                             metrics=['rmse'],\n",
    "                                                             early_stopping_rounds=30, \n",
    "                                                             verbose_eval=True, \n",
    "                                                             num_boost_round=1000, \n",
    "                                                             categorical_features=categoricals)\n",
    "        # concat oof_train\n",
    "        if fold_idx == 0:\n",
    "            oof_X_train = oof_X_train_kf\n",
    "            oof_y_train = y_eval_kf\n",
    "        else:\n",
    "            oof_X_train = np.concatenate([oof_X_train, oof_X_train_kf], axis=0)\n",
    "            oof_y_train = np.concatenate([y_eval_kf, y_eval_kf], axis=0)\n",
    "        #print('Save delta of oof_X_train_kf and label data')\n",
    "            \n",
    "        print('[{}]: model training time'.format(time.time() - start_time))\n",
    "        print('Plot feature importances...')\n",
    "        f, ax = plt.subplots(figsize=[7,20])\n",
    "        lgb.plot_importance(bst, max_num_features=1000, ax=ax)\n",
    "        plt.title(file_path + \"LGBM Feature Importance {:d}f_seed{:d}\".format(fold_idx, seed))\n",
    "        plt.savefig(file_path + 'ftr_imp_{:d}f_seed{:d}.png'.format(fold_idx, seed))\n",
    "        # 画像を表示しすぎるとnotebookがsaveできないので，初回のみ表示するように設定する．\n",
    "        if fold_idx == 0:\n",
    "            plt.show()\n",
    "\n",
    "        print(\"Predicting...\")\n",
    "        if fold_idx == 0:\n",
    "            sum_output = bst.predict(test_df[predictors],num_iteration=best_iteration)\n",
    "        else:\n",
    "            sum_output += bst.predict(test_df[predictors],num_iteration=best_iteration)\n",
    "    \n",
    "    \n",
    "    print('Save out-of-fold X, y train array')\n",
    "    np.save(file_path + 'lgbm_example_{:d}f_seed{:d}.npy'.format(fold_num, seed), oof_X_train)\n",
    "    np.save(file_path + 'lgbm_example_{:d}f_seed{:d}.npy'.format(fold_num, seed), oof_y_train)\n",
    "    # fold eval y_labelは他の弱学習器と同じなので保存しない\n",
    "    \n",
    "    del train_df, train_df_kf\n",
    "    del val_df\n",
    "    gc.collect()\n",
    "    \n",
    "    if not debug:\n",
    "        print(\"writing...\")\n",
    "        outputs = sum_output / fold_num\n",
    "        test_df[targets] = outputs\n",
    "        sub_df = pd.merge(sub_df[[\"item_id\"]], test_df[[\"item_id\", \"deal_probability\"]], how='left')\n",
    "        # [0, 1]からはみ出した値を丸める\n",
    "        sub_df[targets] = sub_df[targets].apply(lambda x: 0. if x < 0 else x)\n",
    "        sub_df[targets] = sub_df[targets].apply(lambda x: 1. if x > 1 else x)\n",
    "        sub_df[[\"item_id\", \"deal_probability\"]].to_csv(file_path + 'lgbm_example_{:d}f_seed{:d}.csv'.format(fold_num, seed),index=False)\n",
    "    print(\"done...\")"
   ]
  },
  {
   "cell_type": "code",
   "execution_count": null,
   "metadata": {},
   "outputs": [],
   "source": [
    "# 学習と推論に使用する変数の指定\n",
    "predictors = [\"col_1\", \"col_2\", \"col_3\"]\n",
    "# カテゴリ変数の指定\n",
    "categoricals = [\"col_1\", \"col_2\", \"col_3\"]\n",
    "# 目的変数の指定\n",
    "targets = [\"target_col\"]\n",
    "\n",
    "sub_df = pd.read_csv(\"./sample_submission.csv\")\n",
    "\n",
    "userows = 1000000\n",
    "# userows分のサンプル数で試したいときは debug=1に指定\n",
    "# debug=1の場合はoutputが出力されない．\n",
    "debug = 0 \n",
    "seed = 7\n",
    "# K-foldの分割数を指定する．\n",
    "fold_num = 4 \n",
    "\n",
    "DO(userows, train_df, test_df, sub_df, predictors, categoricals, targets, debug=debug, seed=7, fold_num=4, outs_path=\"./lgbm_outs/\")"
   ]
  },
  {
   "cell_type": "markdown",
   "metadata": {},
   "source": [
    "## Check submission data"
   ]
  },
  {
   "cell_type": "code",
   "execution_count": null,
   "metadata": {},
   "outputs": [],
   "source": [
    "lgbm_sub = pd.read_csv(\"./lgbm_outs/lgbm_example_4f_seed7.csv\")\n",
    "lgbm_sub "
   ]
  },
  {
   "cell_type": "markdown",
   "metadata": {},
   "source": [
    "## Copy the directory which contains output files to GCS"
   ]
  },
  {
   "cell_type": "code",
   "execution_count": null,
   "metadata": {},
   "outputs": [],
   "source": [
    "! gsutil cp -r ./lgbm_outs gs://path/to/outputs/"
   ]
  }
 ],
 "metadata": {
  "kernelspec": {
   "display_name": "Python 3",
   "language": "python",
   "name": "python3"
  },
  "language_info": {
   "codemirror_mode": {
    "name": "ipython",
    "version": 3
   },
   "file_extension": ".py",
   "mimetype": "text/x-python",
   "name": "python",
   "nbconvert_exporter": "python",
   "pygments_lexer": "ipython3",
   "version": "3.6.5"
  }
 },
 "nbformat": 4,
 "nbformat_minor": 2
}
